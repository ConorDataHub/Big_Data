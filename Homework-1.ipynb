{
  "nbformat": 4,
  "nbformat_minor": 0,
  "metadata": {
    "colab": {
      "name": "Lab2_Hands_on_2-up.ipynb",
      "provenance": [],
      "collapsed_sections": [],
      "toc_visible": true
    },
    "kernelspec": {
      "name": "python3",
      "display_name": "Python 3"
    }
  },
  "cells": [
    {
      "cell_type": "markdown",
      "metadata": {
        "id": "4ntSUV9iwIDW"
      },
      "source": [
        "# Hands-on: Linking Tables (Lab2)\n"
      ]
    },
    {
      "cell_type": "markdown",
      "metadata": {
        "id": "rj_GWfm8wa72"
      },
      "source": [
        "## Goals\n",
        "\n",
        "We'll take data that was extracted from two different booksellers by students, and try to see which is cheaper.  This requires that we can match the books to compare prices!\n",
        "\n",
        "## The Data\n",
        "\n",
        "Data is from the Magellan project, collected by Prof. AnHai Doan and his group.  We'll be looking at Barnes and Noble vs. Amazon."
      ]
    },
    {
      "cell_type": "code",
      "metadata": {
        "id": "d3T5yU-uRZIs",
        "colab": {
          "base_uri": "https://localhost:8080/"
        },
        "outputId": "877f4462-07de-4e33-bdc0-cc2c18086ebe"
      },
      "source": [
        "# Core Magellan libraries, for string similarity\n",
        "!pip3 install py_stringsimjoin"
      ],
      "execution_count": null,
      "outputs": [
        {
          "output_type": "stream",
          "text": [
            "Collecting py_stringsimjoin\n",
            "\u001b[?25l  Downloading https://files.pythonhosted.org/packages/69/f8/343a7277ce5952a923302bb29ac547a2e3eab45965fdf40a7dd43ed058ef/py_stringsimjoin-0.3.2.tar.gz (1.1MB)\n",
            "\u001b[K     |████████████████████████████████| 1.1MB 4.4MB/s \n",
            "\u001b[?25hRequirement already satisfied: joblib in /usr/local/lib/python3.6/dist-packages (from py_stringsimjoin) (1.0.0)\n",
            "Requirement already satisfied: pandas>=0.16.0 in /usr/local/lib/python3.6/dist-packages (from py_stringsimjoin) (1.1.5)\n",
            "Collecting PyPrind>=2.9.3\n",
            "  Downloading https://files.pythonhosted.org/packages/1e/30/e76fb0c45da8aef49ea8d2a90d4e7a6877b45894c25f12fb961f009a891e/PyPrind-2.11.2-py3-none-any.whl\n",
            "Collecting py_stringmatching>=0.2.1\n",
            "\u001b[?25l  Downloading https://files.pythonhosted.org/packages/90/d1/9163e0b0ac3bbb0f727ef8d380985c23066fb98d5005a34483ad76da06b4/py_stringmatching-0.4.2.tar.gz (661kB)\n",
            "\u001b[K     |████████████████████████████████| 665kB 22.4MB/s \n",
            "\u001b[?25hRequirement already satisfied: six in /usr/local/lib/python3.6/dist-packages (from py_stringsimjoin) (1.15.0)\n",
            "Requirement already satisfied: pytz>=2017.2 in /usr/local/lib/python3.6/dist-packages (from pandas>=0.16.0->py_stringsimjoin) (2018.9)\n",
            "Requirement already satisfied: python-dateutil>=2.7.3 in /usr/local/lib/python3.6/dist-packages (from pandas>=0.16.0->py_stringsimjoin) (2.8.1)\n",
            "Requirement already satisfied: numpy>=1.15.4 in /usr/local/lib/python3.6/dist-packages (from pandas>=0.16.0->py_stringsimjoin) (1.19.4)\n",
            "Building wheels for collected packages: py-stringsimjoin, py-stringmatching\n",
            "  Building wheel for py-stringsimjoin (setup.py) ... \u001b[?25l\u001b[?25hdone\n",
            "  Created wheel for py-stringsimjoin: filename=py_stringsimjoin-0.3.2-cp36-cp36m-linux_x86_64.whl size=3748005 sha256=b0eb5ecd44f39faf9778bdd9dd27e7c2b142ddc2c669e7dfe21055886a12995a\n",
            "  Stored in directory: /root/.cache/pip/wheels/58/30/8e/6fa463100ff6e8595b131067ec43a118c607f621ac297e7dad\n",
            "  Building wheel for py-stringmatching (setup.py) ... \u001b[?25l\u001b[?25hdone\n",
            "  Created wheel for py-stringmatching: filename=py_stringmatching-0.4.2-cp36-cp36m-linux_x86_64.whl size=2054283 sha256=97a24e1de22f38574f0b76f5338d041264a95697f53c8f38ff1f9f3504874ac0\n",
            "  Stored in directory: /root/.cache/pip/wheels/be/8c/5d/bcdaf17d0784738b73e856ebc4061cd3f2509753a83dd71058\n",
            "Successfully built py-stringsimjoin py-stringmatching\n",
            "Installing collected packages: PyPrind, py-stringmatching, py-stringsimjoin\n",
            "Successfully installed PyPrind-2.11.2 py-stringmatching-0.4.2 py-stringsimjoin-0.3.2\n"
          ],
          "name": "stdout"
        }
      ]
    },
    {
      "cell_type": "code",
      "metadata": {
        "id": "0UjsISdQM9x6"
      },
      "source": [
        "import pandas as pd\n",
        "\n",
        "# Approximate string matching\n",
        "import py_stringsimjoin as ssj\n",
        "import py_stringmatching as sm"
      ],
      "execution_count": null,
      "outputs": []
    },
    {
      "cell_type": "markdown",
      "metadata": {
        "id": "fjV0uaE0w1eT"
      },
      "source": [
        "# Part 1. Loading"
      ]
    },
    {
      "cell_type": "markdown",
      "metadata": {
        "id": "NiBPZJYJ4FGz"
      },
      "source": [
        "### 1.1 Reading Barnes and Noble"
      ]
    },
    {
      "cell_type": "code",
      "metadata": {
        "id": "iQFEFk6BM_Vb"
      },
      "source": [
        "#### 1a\n",
        "\n",
        "# TODO: load http://pages.cs.wisc.edu/~anhai/data/784_data/books4/csv_files/barnes_and_noble.csv and inspect it\n",
        "\n"
      ],
      "execution_count": null,
      "outputs": []
    },
    {
      "cell_type": "markdown",
      "metadata": {
        "id": "guNVsAal4Ikk"
      },
      "source": [
        "### 1.2 Reading Amazon"
      ]
    },
    {
      "cell_type": "code",
      "metadata": {
        "id": "aIP4fgrkND_W"
      },
      "source": [
        "#### 1b\n",
        "\n",
        "# TODO: load and display http://pages.cs.wisc.edu/~anhai/data/784_data/books4/csv_files/amazon.csv\n",
        "\n"
      ],
      "execution_count": null,
      "outputs": []
    },
    {
      "cell_type": "markdown",
      "metadata": {
        "id": "mYU8TLoT4LDF"
      },
      "source": [
        "### 1.3 Simple cleaning\n",
        "\n",
        "Are there rows that seem completely useless?  Clean them."
      ]
    },
    {
      "cell_type": "code",
      "metadata": {
        "id": "sfO77ipTxQeK"
      },
      "source": [
        "#### 1c\n",
        "\n",
        "# TODO: clean up any rows that seem to be all nulls\n",
        "\n"
      ],
      "execution_count": null,
      "outputs": []
    },
    {
      "cell_type": "markdown",
      "metadata": {
        "id": "MypQBVfPOFkp"
      },
      "source": [
        "# Part 2. Record Linking by Join\n",
        "\n",
        "Now we want to compare prices, between Barnes and Noble and Amazon.\n",
        "\n",
        "How do we best link what's in these tables, to do the comparison?\n",
        "\n",
        "We'll try various options."
      ]
    },
    {
      "cell_type": "markdown",
      "metadata": {
        "id": "18D5UwOgOjaZ"
      },
      "source": [
        "## 2.1. Join based on ISBN-13.\n",
        "\n",
        "Let's first try the most obvious thing, which is to join based on the ISBN-13 numbers."
      ]
    },
    {
      "cell_type": "code",
      "metadata": {
        "id": "mw8B_rdKNj2m"
      },
      "source": [
        "#### 2a\n",
        "\n",
        "# TODO: join bn_books_df on ISBN_13.  Output\n",
        "# the ISBN, title, author, prices\n",
        "\n"
      ],
      "execution_count": null,
      "outputs": []
    },
    {
      "cell_type": "markdown",
      "metadata": {
        "id": "os5dJvmm4mnk"
      },
      "source": [
        "### How many missing ISBNs?\n",
        "\n",
        "The above looks good, but are we missing things because of null values?"
      ]
    },
    {
      "cell_type": "code",
      "metadata": {
        "id": "c0jLwsIP4WrC"
      },
      "source": [
        "#### 2b\n",
        "\n",
        "# TODO: count number of nulls for ISBN_13 in Barnes and Noble\n",
        "\n"
      ],
      "execution_count": null,
      "outputs": []
    },
    {
      "cell_type": "code",
      "metadata": {
        "id": "rkDNthXJ4hQg"
      },
      "source": [
        "#### 2c\n",
        "\n",
        "# TODO: count number of nulls for ISBN_13 in Amazon\n",
        "\n"
      ],
      "execution_count": null,
      "outputs": []
    },
    {
      "cell_type": "markdown",
      "metadata": {
        "id": "8R16ryyWOqqx"
      },
      "source": [
        "## 2.2. Join based on Title.\n",
        "\n",
        "Let's try a more tolerant join."
      ]
    },
    {
      "cell_type": "code",
      "metadata": {
        "id": "cV09cCJiNKnN"
      },
      "source": [
        "#### 2d\n",
        "\n",
        "# TODO: join bn_books_df on Title.  Output\n",
        "# the ISBN, title, author, prices\n",
        "\n"
      ],
      "execution_count": null,
      "outputs": []
    }
  ]
}