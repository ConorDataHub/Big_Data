{
  "nbformat": 4,
  "nbformat_minor": 0,
  "metadata": {
    "colab": {
      "provenance": []
    },
    "kernelspec": {
      "name": "python3",
      "display_name": "Python 3"
    }
  },
  "cells": [
    {
      "cell_type": "markdown",
      "source": [
        "# Learning Outcomes\n",
        "1.   Integrating withe the Kaggle\n",
        "2.   Sentiment Analysis of Reviews\n"
      ],
      "metadata": {
        "id": "hZArFT4emdtK"
      }
    },
    {
      "cell_type": "markdown",
      "metadata": {
        "id": "B0xo-OWG6BeW"
      },
      "source": [
        "## Part I. Procedure to Access the Kaggle Dataset\n",
        "\n",
        "At first, you should go to your account and create a new API token. Do the following in order: \n",
        "Go to your Kaggle account\n",
        "\n",
        "1. Find the API section\n",
        "\n",
        "2. Push the Expire API Token button, \n",
        "(Kaggle notification: Expired all API tokens for Your Name) Push the Create New API Token button ( Kaggle notification: \n",
        "\n",
        "3. Ensure kaggle.json is in the location ~/.kaggle/kaggle.json to use the API. ) and it downloads the “kaggle.json” file.\n",
        "\n",
        "4. You can go to Google Colaboratory. Open a new file in any directory you desire and do the following:"
      ]
    },
    {
      "cell_type": "code",
      "metadata": {
        "id": "WWsh5yDw3_DB"
      },
      "source": [
        "# Install Kaggle API\n",
        "!pip install --quiet kaggle"
      ],
      "execution_count": null,
      "outputs": []
    },
    {
      "cell_type": "code",
      "metadata": {
        "id": "6zgtiHJg5_8f"
      },
      "source": [
        "# Choose kaggle.json that created for new API token in your account\n",
        "from google.colab import files\n",
        "files.upload()"
      ],
      "execution_count": null,
      "outputs": []
    },
    {
      "cell_type": "code",
      "metadata": {
        "id": "1ltCYinN6z0b"
      },
      "source": [
        "!mkdir -p ~/.kaggle\n",
        "!cp kaggle.json ~/.kaggle/\n",
        "\n",
        "# Check the file in its new directory\n",
        "!ls /root/.kaggle/\n",
        "\n",
        "# Check the file permission\n",
        "!ls -l ~/.kaggle/kaggle.json\n",
        "\n",
        "#Change the file permission\n",
        "#!chmod 600 file – owner can read and write\n",
        "!chmod 700 ~/.kaggle/kaggle.json\n",
        "!chmod 600 ~/.kaggle/kaggle.json"
      ],
      "execution_count": null,
      "outputs": []
    },
    {
      "cell_type": "markdown",
      "metadata": {
        "id": "YDaphH-O-d1Q"
      },
      "source": [
        " 5. we go ahead and download the dataset. But how? First, let’s go to the data panel. Go on the following link:\n",
        "\n",
        " https://www.kaggle.com/datafiniti/grammar-and-online-product-reviews/metadata\n",
        "\n",
        "Copy the API command as shown in the figure and as given below in the code.\n",
        "\n",
        "You can download any dataset from the kaggle using this procedure\n"
      ]
    },
    {
      "cell_type": "code",
      "metadata": {
        "id": "AhKQFTlu7Buy"
      },
      "source": [
        "# Get the dataset we want by !kaggle datasets download -d datafiniti/grammar-and-online-product-reviews\n",
        "!kaggle datasets download -d datafiniti/grammar-and-online-product-reviews\n"
      ],
      "execution_count": null,
      "outputs": []
    },
    {
      "cell_type": "markdown",
      "metadata": {
        "id": "6XxQyN90Cnm2"
      },
      "source": [
        "Learning Outcome: You can download any dataset for the data analytics by using the above procedure directly"
      ]
    },
    {
      "cell_type": "markdown",
      "metadata": {
        "id": "BiZgV3orAs_T"
      },
      "source": [
        "##Part II Sentiment Analysis"
      ]
    },
    {
      "cell_type": "markdown",
      "metadata": {
        "id": "7Qfufmj_1h-G"
      },
      "source": [
        "###### AFINN sentiment analysis in Python: Wordlist-based approach for sentiment analysis. The AFINN lexicon is perhaps one of the simplest and most popular lexicons that can be used extensively for sentiment analysis.\n",
        "The current version of the lexicon is AFINN-en-165. txt and it contains over 3,300+ words with a polarity score associated with each word. You can find this lexicon at the author’s [official GitHub repository](https://github.com/fnielsen/afinn/tree/master/afinn/data)"
      ]
    },
    {
      "cell_type": "code",
      "metadata": {
        "id": "LWJIj--o9zQz"
      },
      "source": [
        "!pip install afinn"
      ],
      "execution_count": null,
      "outputs": []
    },
    {
      "cell_type": "code",
      "metadata": {
        "id": "5ScZvnCdzKm3"
      },
      "source": [
        "!unzip  \"/content/grammar-and-online-product-reviews.zip\" "
      ],
      "execution_count": null,
      "outputs": []
    },
    {
      "cell_type": "code",
      "metadata": {
        "id": "hIWsPN38GHhv"
      },
      "source": [
        "import pandas as pd\n",
        "reviews_df = pd.read_csv('GrammarandProductReviews.csv')"
      ],
      "execution_count": null,
      "outputs": []
    },
    {
      "cell_type": "code",
      "metadata": {
        "id": "FRmvC2wt93yZ"
      },
      "source": [
        "from afinn import Afinn"
      ],
      "execution_count": null,
      "outputs": []
    },
    {
      "cell_type": "code",
      "metadata": {
        "id": "73iKw1JI-nXF"
      },
      "source": [
        "food_df = reviews_df[reviews_df['categories'].apply(lambda x: 'Food,' in x)]\n",
        "\n",
        "food_df"
      ],
      "execution_count": null,
      "outputs": []
    },
    {
      "cell_type": "markdown",
      "metadata": {
        "id": "L2jslu8bB_zN"
      },
      "source": [
        "pandas.DataFrame.copy() function: This function make a copy of this object’s indices and data. Modifications to the data or indices of the copy will not be reflected in the original object. \n"
      ]
    },
    {
      "cell_type": "code",
      "metadata": {
        "id": "nEOEBFr0-pP9"
      },
      "source": [
        "reviews_text_df = food_df[['manufacturer','manufacturerNumber','name','reviews.text']].copy()\n",
        "\n",
        "reviews_text_df"
      ],
      "execution_count": null,
      "outputs": []
    },
    {
      "cell_type": "code",
      "metadata": {
        "id": "z-cUmSOK_iWE"
      },
      "source": [
        "reviews_text_df.dtypes"
      ],
      "execution_count": null,
      "outputs": []
    },
    {
      "cell_type": "code",
      "metadata": {
        "id": "cks1QEsv-2Gm"
      },
      "source": [
        "afinn = Afinn(language='en')\n",
        "\n",
        "reviews_text_df['score'] = reviews_text_df['reviews.text'].apply(afinn.score)"
      ],
      "execution_count": null,
      "outputs": []
    },
    {
      "cell_type": "code",
      "metadata": {
        "id": "4-dSnZqc_Gtb"
      },
      "source": [
        "reviews_text_df"
      ],
      "execution_count": null,
      "outputs": []
    },
    {
      "cell_type": "code",
      "metadata": {
        "id": "aMQ9IkyjB6ZV"
      },
      "source": [
        "reviews_text_df['score'].describe()"
      ],
      "execution_count": null,
      "outputs": []
    },
    {
      "cell_type": "code",
      "metadata": {
        "id": "VN1LAfSBBGt4"
      },
      "source": [
        "reviews_text_df[['manufacturer','manufacturerNumber','name','score']].groupby(\n",
        "    by=['manufacturer','name','manufacturerNumber']).mean().sort_values(by='score')"
      ],
      "execution_count": null,
      "outputs": []
    },
    {
      "cell_type": "code",
      "metadata": {
        "id": "bYv5BTJoEysK"
      },
      "source": [
        "import matplotlib.pyplot as plt"
      ],
      "execution_count": null,
      "outputs": []
    },
    {
      "cell_type": "code",
      "metadata": {
        "id": "fBGqQi3cSDLy"
      },
      "source": [
        "reviews_text_df[['manufacturer','manufacturerNumber','name','score']].groupby(\n",
        "    by=['manufacturer','name','manufacturerNumber']).mean().sort_values(by='score')\n",
        "    "
      ],
      "execution_count": null,
      "outputs": []
    },
    {
      "cell_type": "code",
      "metadata": {
        "id": "ZE-hBTqoSPtv"
      },
      "source": [
        "reviews_text_df[['manufacturer','score']].groupby(\n",
        "    by=['manufacturer']).mean().plot.bar(alpha=0.5)"
      ],
      "execution_count": null,
      "outputs": []
    },
    {
      "cell_type": "markdown",
      "source": [
        "### Task-1: Modify the above code to analyze sentiments of 'Movies'"
      ],
      "metadata": {
        "id": "Rfa6aM7qu8Ku"
      }
    },
    {
      "cell_type": "markdown",
      "source": [
        "### Task-2: Plot histogram for 'Movie' Manufacturer with sentiment score greater than 20."
      ],
      "metadata": {
        "id": "ztYUY_fgvPZ3"
      }
    },
    {
      "cell_type": "code",
      "source": [
        "## exec_df[exec_df['clean_name'] == 'Julie Sweet'][['page']] // hint for filtering"
      ],
      "metadata": {
        "id": "G-HO_eqnvt3x"
      },
      "execution_count": null,
      "outputs": []
    }
  ]
}