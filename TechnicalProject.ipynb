{
  "nbformat": 4,
  "nbformat_minor": 0,
  "metadata": {
    "colab": {
      "provenance": [],
      "authorship_tag": "ABX9TyNezw5C6oW1AdQPwQxFGugG",
      "include_colab_link": true
    },
    "kernelspec": {
      "name": "python3",
      "display_name": "Python 3"
    },
    "language_info": {
      "name": "python"
    }
  },
  "cells": [
    {
      "cell_type": "markdown",
      "metadata": {
        "id": "view-in-github",
        "colab_type": "text"
      },
      "source": [
        "<a href=\"https://colab.research.google.com/github/ConorDataHub/Big_Data/blob/main/TechnicalProject.ipynb\" target=\"_parent\"><img src=\"https://colab.research.google.com/assets/colab-badge.svg\" alt=\"Open In Colab\"/></a>"
      ]
    },
    {
      "cell_type": "code",
      "execution_count": 1,
      "metadata": {
        "id": "jsi1EG_TFA53"
      },
      "outputs": [],
      "source": [
        "# import pandas for working with dataframes\n",
        "import pandas as pd\n",
        "# import sqllite 3 to insert the data into a db stored locally. Also gives us access to sql functionality\n",
        "import sqlite3"
      ]
    },
    {
      "cell_type": "code",
      "source": [
        "dataLink = \"https://dataverse.harvard.edu/dataset.xhtml?persistentId=doi:10.7910/DVN/HG7NV7/\"\n",
        "filePath = \".csv.bv2\"\n"
      ],
      "metadata": {
        "id": "GJN0HwlTGHTi"
      },
      "execution_count": 7,
      "outputs": []
    },
    {
      "cell_type": "code",
      "source": [
        "# The below block of code gets the first part of all the file names, which is the year. \n",
        "# We need this to join with the filePath above.\n",
        "# Then the full file name will be = \"{year}.csv.bv2\"\n",
        "\n",
        "firstYear = 1987\n",
        "yearList = []\n",
        "\n",
        "while firstYear <= 1996:\n",
        "      yearList.append(firstYear)\n",
        "      firstYear += 1\n",
        "\n",
        "print(yearList)"
      ],
      "metadata": {
        "colab": {
          "base_uri": "https://localhost:8080/"
        },
        "id": "ecUn59RXIyMn",
        "outputId": "94239d27-7a64-4ebf-aa2a-929e8a588baa"
      },
      "execution_count": 14,
      "outputs": [
        {
          "output_type": "stream",
          "name": "stdout",
          "text": [
            "[1987, 1988, 1989, 1990, 1991, 1992, 1993, 1994, 1995, 1996]\n"
          ]
        }
      ]
    },
    {
      "cell_type": "code",
      "source": [
        "# This block of code will join the \"filePath\" (string) with the \"yearList\" (list of ints)\n",
        "# "
      ],
      "metadata": {
        "id": "oOTa977LLa81"
      },
      "execution_count": null,
      "outputs": []
    }
  ]
}